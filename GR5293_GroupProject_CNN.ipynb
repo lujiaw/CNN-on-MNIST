{
 "cells": [
  {
   "cell_type": "code",
   "execution_count": 1,
   "metadata": {},
   "outputs": [
    {
     "name": "stderr",
     "output_type": "stream",
     "text": [
      "/home/han/anaconda3/lib/python3.6/site-packages/h5py/__init__.py:36: FutureWarning: Conversion of the second argument of issubdtype from `float` to `np.floating` is deprecated. In future, it will be treated as `np.float64 == np.dtype(float).type`.\n",
      "  from ._conv import register_converters as _register_converters\n",
      "Using TensorFlow backend.\n"
     ]
    }
   ],
   "source": [
    "import numpy as np\n",
    "import matplotlib.pyplot as plt\n",
    "%matplotlib inline\n",
    "from sklearn.model_selection import train_test_split\n",
    "from tensorflow.python.client import device_lib\n",
    "import keras\n",
    "from keras.datasets import mnist\n",
    "from keras.models import Sequential\n",
    "from keras.layers import Dense, Dropout, Activation, Flatten\n",
    "from keras.utils import np_utils\n",
    "from keras.layers import Conv2D, MaxPooling2D\n",
    "from keras.preprocessing.image import ImageDataGenerator\n",
    "from keras.callbacks import ReduceLROnPlateau\n",
    "from keras import backend as K"
   ]
  },
  {
   "cell_type": "code",
   "execution_count": 2,
   "metadata": {
    "scrolled": true
   },
   "outputs": [
    {
     "name": "stdout",
     "output_type": "stream",
     "text": [
      "[name: \"/device:CPU:0\"\n",
      "device_type: \"CPU\"\n",
      "memory_limit: 268435456\n",
      "locality {\n",
      "}\n",
      "incarnation: 13832290441375646626\n",
      ", name: \"/device:GPU:0\"\n",
      "device_type: \"GPU\"\n",
      "memory_limit: 6931565773\n",
      "locality {\n",
      "  bus_id: 1\n",
      "  links {\n",
      "  }\n",
      "}\n",
      "incarnation: 8287642749152789543\n",
      "physical_device_desc: \"device: 0, name: GeForce GTX 1080, pci bus id: 0000:01:00.0, compute capability: 6.1\"\n",
      "]\n"
     ]
    }
   ],
   "source": [
    "print(device_lib.list_local_devices())"
   ]
  },
  {
   "cell_type": "code",
   "execution_count": 3,
   "metadata": {},
   "outputs": [
    {
     "data": {
      "text/plain": [
       "['/job:localhost/replica:0/task:0/device:GPU:0']"
      ]
     },
     "execution_count": 3,
     "metadata": {},
     "output_type": "execute_result"
    }
   ],
   "source": [
    "K.tensorflow_backend._get_available_gpus()"
   ]
  },
  {
   "cell_type": "code",
   "execution_count": 4,
   "metadata": {
    "collapsed": true
   },
   "outputs": [],
   "source": [
    "num_classes = 10\n",
    "epochs = 30\n",
    "# input image dimensions\n",
    "img_rows, img_cols = 28, 28"
   ]
  },
  {
   "cell_type": "code",
   "execution_count": 5,
   "metadata": {},
   "outputs": [
    {
     "name": "stdout",
     "output_type": "stream",
     "text": [
      "x_train shape: (60000, 28, 28, 1)\n",
      "60000 train samples\n",
      "10000 test samples\n"
     ]
    }
   ],
   "source": [
    "(x_train, y_train), (x_test, y_test) = mnist.load_data()\n",
    "if K.image_data_format() == 'channels_first':\n",
    "    x_train = x_train.reshape(x_train.shape[0], 1, img_rows, img_cols)\n",
    "    x_test = x_test.reshape(x_test.shape[0], 1, img_rows, img_cols)\n",
    "    input_shape = (1, img_rows, img_cols)\n",
    "else:\n",
    "    x_train = x_train.reshape(x_train.shape[0], img_rows, img_cols, 1)\n",
    "    x_test = x_test.reshape(x_test.shape[0], img_rows, img_cols, 1)\n",
    "    input_shape = (img_rows, img_cols, 1)\n",
    "# normalize data to [0,...,1] rather than original [0,..., 255]\n",
    "x_train = x_train.astype('float32')\n",
    "x_test = x_test.astype('float32')\n",
    "x_train /= 255\n",
    "x_test /= 255\n",
    "print('x_train shape:', x_train.shape)\n",
    "print(x_train.shape[0], 'train samples')\n",
    "print(x_test.shape[0], 'test samples')"
   ]
  },
  {
   "cell_type": "code",
   "execution_count": 6,
   "metadata": {
    "collapsed": true
   },
   "outputs": [],
   "source": [
    "# convert class vectors to binary class matrices\n",
    "y_train = keras.utils.to_categorical(y_train, num_classes) #(60000,10)\n",
    "y_test = keras.utils.to_categorical(y_test, num_classes) #(10000,10)"
   ]
  },
  {
   "cell_type": "code",
   "execution_count": 7,
   "metadata": {
    "collapsed": true
   },
   "outputs": [],
   "source": [
    "# split x train into train and val\n",
    "x_train, x_val, y_train, y_val = train_test_split(x_train, y_train, test_size = 0.1, random_state = 1)"
   ]
  },
  {
   "cell_type": "code",
   "execution_count": 8,
   "metadata": {},
   "outputs": [
    {
     "name": "stdout",
     "output_type": "stream",
     "text": [
      "x_train shape: (54000, 28, 28, 1)\n",
      "54000 train samples\n",
      "10000 test samples\n",
      "6000 validation samples\n"
     ]
    }
   ],
   "source": [
    "print('x_train shape:', x_train.shape)\n",
    "print(x_train.shape[0], 'train samples')\n",
    "print(x_test.shape[0], 'test samples')\n",
    "print(x_val.shape[0],'validation samples')"
   ]
  },
  {
   "cell_type": "code",
   "execution_count": 9,
   "metadata": {
    "collapsed": true
   },
   "outputs": [],
   "source": [
    "model = Sequential()\n",
    "# convolutional layer #1\n",
    "model.add(Conv2D(32, kernel_size = (5, 5), padding = 'same',\n",
    "                 activation = 'relu', input_shape = input_shape))\n",
    "# convolutional layer #2\n",
    "model.add(Conv2D(32, kernel_size = (5, 5), padding = 'same',\n",
    "                 activation = 'relu'))\n",
    "# pooling layer #1\n",
    "model.add(MaxPooling2D(pool_size = (2, 2)))\n",
    "model.add(Dropout(0.25))\n",
    "\n",
    "# convolutional layer #3\n",
    "model.add(Conv2D(64, kernel_size = (5, 5), padding = 'same',\n",
    "                 activation='relu'))\n",
    "# convolutional layer #4\n",
    "model.add(Conv2D(64, kernel_size = (5, 5), padding = 'same',\n",
    "                 activation='relu'))\n",
    "# pooling layer #2\n",
    "model.add(MaxPooling2D(pool_size = (2, 2)))\n",
    "model.add(Dropout(0.25)) # tuning parameter\n",
    "\n",
    "model.add(Flatten())\n",
    "# dense layer #1\n",
    "model.add(Dense(1024, activation = 'relu'))\n",
    "model.add(Dropout(0.5))\n",
    "# dense layer #2\n",
    "model.add(Dense(num_classes, activation = 'softmax'))\n",
    "# compile model\n",
    "model.compile(loss = keras.losses.categorical_crossentropy,\n",
    "              optimizer = keras.optimizers.Adadelta(),\n",
    "              metrics = ['accuracy'])"
   ]
  },
  {
   "cell_type": "code",
   "execution_count": 10,
   "metadata": {},
   "outputs": [
    {
     "name": "stdout",
     "output_type": "stream",
     "text": [
      "_________________________________________________________________\n",
      "Layer (type)                 Output Shape              Param #   \n",
      "=================================================================\n",
      "conv2d_1 (Conv2D)            (None, 28, 28, 32)        832       \n",
      "_________________________________________________________________\n",
      "conv2d_2 (Conv2D)            (None, 28, 28, 32)        25632     \n",
      "_________________________________________________________________\n",
      "max_pooling2d_1 (MaxPooling2 (None, 14, 14, 32)        0         \n",
      "_________________________________________________________________\n",
      "dropout_1 (Dropout)          (None, 14, 14, 32)        0         \n",
      "_________________________________________________________________\n",
      "conv2d_3 (Conv2D)            (None, 14, 14, 64)        51264     \n",
      "_________________________________________________________________\n",
      "conv2d_4 (Conv2D)            (None, 14, 14, 64)        102464    \n",
      "_________________________________________________________________\n",
      "max_pooling2d_2 (MaxPooling2 (None, 7, 7, 64)          0         \n",
      "_________________________________________________________________\n",
      "dropout_2 (Dropout)          (None, 7, 7, 64)          0         \n",
      "_________________________________________________________________\n",
      "flatten_1 (Flatten)          (None, 3136)              0         \n",
      "_________________________________________________________________\n",
      "dense_1 (Dense)              (None, 1024)              3212288   \n",
      "_________________________________________________________________\n",
      "dropout_3 (Dropout)          (None, 1024)              0         \n",
      "_________________________________________________________________\n",
      "dense_2 (Dense)              (None, 10)                10250     \n",
      "=================================================================\n",
      "Total params: 3,402,730\n",
      "Trainable params: 3,402,730\n",
      "Non-trainable params: 0\n",
      "_________________________________________________________________\n"
     ]
    }
   ],
   "source": [
    "model.summary()"
   ]
  },
  {
   "cell_type": "code",
   "execution_count": 11,
   "metadata": {
    "collapsed": true
   },
   "outputs": [],
   "source": [
    "# Data Augmentation on training dataset\n",
    "    # randomly rotate some images 10 degrees\n",
    "    # randomly shift some images horizontally 10% of the width\n",
    "    # randomly shift some images vertically 10% of the height\n",
    "    # randomly zoom some images 10%\n",
    "    # randomly shear intensity 10%\n",
    "gen = ImageDataGenerator(rotation_range=10, \n",
    "                         width_shift_range=0.1, \n",
    "                         height_shift_range=0.1,\n",
    "                         shear_range = 0.1,\n",
    "                         zoom_range=0.1)\n",
    "train_generator = gen.flow(x_train, y_train, batch_size=64)\n",
    "# don't apply data augmentation on validation set\n",
    "val_gen = ImageDataGenerator()\n",
    "val_generator = val_gen.flow(x_val, y_val, batch_size=64)"
   ]
  },
  {
   "cell_type": "code",
   "execution_count": 12,
   "metadata": {
    "collapsed": true
   },
   "outputs": [],
   "source": [
    "# Set a learning rate annealer\n",
    "# reduce the learning rate by half if validation accuracy doesn't improve after 3 epochs\n",
    "learning_rate_reduction = ReduceLROnPlateau(monitor='val_acc', \n",
    "                                            patience=3, \n",
    "                                            verbose=1, \n",
    "                                            factor=0.5, \n",
    "                                            min_lr=0.00001)"
   ]
  },
  {
   "cell_type": "code",
   "execution_count": 13,
   "metadata": {},
   "outputs": [
    {
     "name": "stdout",
     "output_type": "stream",
     "text": [
      "Epoch 1/30\n",
      "937/937 [==============================] - 11s 12ms/step - loss: 0.2777 - acc: 0.9106 - val_loss: 0.0514 - val_acc: 0.9828\n",
      "Epoch 2/30\n",
      "937/937 [==============================] - 10s 10ms/step - loss: 0.0694 - acc: 0.9788 - val_loss: 0.0368 - val_acc: 0.9883\n",
      "Epoch 3/30\n",
      "937/937 [==============================] - 10s 10ms/step - loss: 0.0537 - acc: 0.9836 - val_loss: 0.0254 - val_acc: 0.9923\n",
      "Epoch 4/30\n",
      "937/937 [==============================] - 10s 10ms/step - loss: 0.0426 - acc: 0.9868 - val_loss: 0.0283 - val_acc: 0.9908\n",
      "Epoch 5/30\n",
      "937/937 [==============================] - 10s 10ms/step - loss: 0.0396 - acc: 0.9877 - val_loss: 0.0323 - val_acc: 0.9922\n",
      "Epoch 6/30\n",
      "937/937 [==============================] - 10s 10ms/step - loss: 0.0367 - acc: 0.9889 - val_loss: 0.0204 - val_acc: 0.9933\n",
      "Epoch 7/30\n",
      "937/937 [==============================] - 10s 10ms/step - loss: 0.0327 - acc: 0.9899 - val_loss: 0.0215 - val_acc: 0.9933\n",
      "Epoch 8/30\n",
      "937/937 [==============================] - 10s 10ms/step - loss: 0.0302 - acc: 0.9912 - val_loss: 0.0240 - val_acc: 0.9920\n",
      "Epoch 9/30\n",
      "937/937 [==============================] - 10s 10ms/step - loss: 0.0293 - acc: 0.9915 - val_loss: 0.0208 - val_acc: 0.9933\n",
      "Epoch 10/30\n",
      "937/937 [==============================] - 10s 11ms/step - loss: 0.0267 - acc: 0.9919 - val_loss: 0.0257 - val_acc: 0.9933\n",
      "\n",
      "Epoch 00010: ReduceLROnPlateau reducing learning rate to 0.5.\n",
      "Epoch 11/30\n",
      "937/937 [==============================] - 10s 10ms/step - loss: 0.0206 - acc: 0.9940 - val_loss: 0.0204 - val_acc: 0.9948\n",
      "Epoch 12/30\n",
      "937/937 [==============================] - 10s 10ms/step - loss: 0.0194 - acc: 0.9940 - val_loss: 0.0185 - val_acc: 0.9950\n",
      "Epoch 13/30\n",
      "937/937 [==============================] - 10s 10ms/step - loss: 0.0188 - acc: 0.9942 - val_loss: 0.0164 - val_acc: 0.9952\n",
      "Epoch 14/30\n",
      "937/937 [==============================] - 10s 10ms/step - loss: 0.0172 - acc: 0.9948 - val_loss: 0.0219 - val_acc: 0.9950\n",
      "Epoch 15/30\n",
      "937/937 [==============================] - 10s 11ms/step - loss: 0.0186 - acc: 0.9942 - val_loss: 0.0206 - val_acc: 0.9947\n",
      "Epoch 16/30\n",
      "937/937 [==============================] - 10s 11ms/step - loss: 0.0167 - acc: 0.9948 - val_loss: 0.0206 - val_acc: 0.9943\n",
      "Epoch 17/30\n",
      "937/937 [==============================] - 10s 10ms/step - loss: 0.0167 - acc: 0.9949 - val_loss: 0.0185 - val_acc: 0.9953\n",
      "Epoch 18/30\n",
      "937/937 [==============================] - 10s 10ms/step - loss: 0.0151 - acc: 0.9950 - val_loss: 0.0186 - val_acc: 0.9957\n",
      "Epoch 19/30\n",
      "937/937 [==============================] - 10s 10ms/step - loss: 0.0149 - acc: 0.9955 - val_loss: 0.0175 - val_acc: 0.9958\n",
      "Epoch 20/30\n",
      "937/937 [==============================] - 10s 10ms/step - loss: 0.0158 - acc: 0.9953 - val_loss: 0.0213 - val_acc: 0.9947\n",
      "Epoch 21/30\n",
      "937/937 [==============================] - 10s 10ms/step - loss: 0.0151 - acc: 0.9956 - val_loss: 0.0168 - val_acc: 0.9948\n",
      "Epoch 22/30\n",
      "937/937 [==============================] - 10s 11ms/step - loss: 0.0142 - acc: 0.9954 - val_loss: 0.0210 - val_acc: 0.9947\n",
      "Epoch 23/30\n",
      "937/937 [==============================] - 10s 10ms/step - loss: 0.0138 - acc: 0.9957 - val_loss: 0.0187 - val_acc: 0.9958\n",
      "\n",
      "Epoch 00023: ReduceLROnPlateau reducing learning rate to 0.25.\n",
      "Epoch 24/30\n",
      "937/937 [==============================] - 10s 10ms/step - loss: 0.0124 - acc: 0.9966 - val_loss: 0.0164 - val_acc: 0.9957\n",
      "Epoch 25/30\n",
      "937/937 [==============================] - 10s 10ms/step - loss: 0.0125 - acc: 0.9965 - val_loss: 0.0192 - val_acc: 0.9948\n",
      "Epoch 26/30\n",
      "937/937 [==============================] - 9s 10ms/step - loss: 0.0130 - acc: 0.9964 - val_loss: 0.0165 - val_acc: 0.9957\n",
      "\n",
      "Epoch 00026: ReduceLROnPlateau reducing learning rate to 0.125.\n",
      "Epoch 27/30\n",
      "937/937 [==============================] - 10s 10ms/step - loss: 0.0099 - acc: 0.9972 - val_loss: 0.0171 - val_acc: 0.9955\n",
      "Epoch 28/30\n",
      "937/937 [==============================] - 10s 10ms/step - loss: 0.0095 - acc: 0.9973 - val_loss: 0.0173 - val_acc: 0.9957\n",
      "Epoch 29/30\n",
      "937/937 [==============================] - 10s 10ms/step - loss: 0.0092 - acc: 0.9973 - val_loss: 0.0184 - val_acc: 0.9955\n",
      "\n",
      "Epoch 00029: ReduceLROnPlateau reducing learning rate to 0.0625.\n",
      "Epoch 30/30\n",
      "937/937 [==============================] - 10s 10ms/step - loss: 0.0095 - acc: 0.9973 - val_loss: 0.0170 - val_acc: 0.9960\n"
     ]
    }
   ],
   "source": [
    "mymodel = model.fit_generator(train_generator, steps_per_epoch=60000//64, \n",
    "                              epochs=epochs, validation_data = val_generator,\n",
    "                              callbacks=[learning_rate_reduction])"
   ]
  },
  {
   "cell_type": "code",
   "execution_count": 14,
   "metadata": {},
   "outputs": [
    {
     "name": "stdout",
     "output_type": "stream",
     "text": [
      "Test loss: 0.01221737820001008\n",
      "Test accuracy: 0.9968\n"
     ]
    }
   ],
   "source": [
    "score = model.evaluate(x_test, y_test, verbose=0)\n",
    "print('Test loss:', score[0])\n",
    "print('Test accuracy:', score[1])"
   ]
  },
  {
   "cell_type": "code",
   "execution_count": 15,
   "metadata": {
    "collapsed": true
   },
   "outputs": [],
   "source": [
    "# 99.35%  epch = 12 original kera example layer\n",
    "# 99.47%  epoch = 30, 2*conv(32,5,5) + pooling(2,2)+dropout(0.25)+2*conv(64,5,5) + pooling(2,2)+dropout(0.25)+dense(1024)+dropout(0.5)+dense(10)\n",
    "# 99.6%   + data augmentation + learning rate reduce (more than 7h on macbook pro)\n",
    "# 99.68%  5min on a GTX1080 GPU (much much faster!!)"
   ]
  },
  {
   "cell_type": "code",
   "execution_count": 16,
   "metadata": {},
   "outputs": [
    {
     "data": {
      "image/png": "[encoded data removed]",
      "text/plain": [
       "<matplotlib.figure.Figure at 0x7f5d240319b0>"
      ]
     },
     "metadata": {},
     "output_type": "display_data"
    }
   ],
   "source": [
    "# Plot the loss and accuracy curves for training and validation \n",
    "fig, ax = plt.subplots(2,1)\n",
    "ax[0].plot(mymodel.history['loss'], color='b', label=\"Training loss\")\n",
    "ax[0].plot(mymodel.history['val_loss'], color='r', label=\"validation loss\",axes =ax[0])\n",
    "legend = ax[0].legend(loc='best', shadow=True)\n",
    "\n",
    "ax[1].plot(mymodel.history['acc'], color='b', label=\"Training accuracy\")\n",
    "ax[1].plot(mymodel.history['val_acc'], color='r',label=\"Validation accuracy\")\n",
    "legend = ax[1].legend(loc='best', shadow=True)"
   ]
  },
  {
   "cell_type": "code",
   "execution_count": null,
   "metadata": {
    "collapsed": true
   },
   "outputs": [],
   "source": []
  }
 ],
 "metadata": {
  "kernelspec": {
   "display_name": "Python 2",
   "language": "python",
   "name": "python2"
  },
  "language_info": {
   "codemirror_mode": {
    "name": "ipython",
    "version": 2
   },
   "file_extension": ".py",
   "mimetype": "text/x-python",
   "name": "python",
   "nbconvert_exporter": "python",
   "pygments_lexer": "ipython2",
   "version": "2.7.13"
  }
 },
 "nbformat": 4,
 "nbformat_minor": 2
}
